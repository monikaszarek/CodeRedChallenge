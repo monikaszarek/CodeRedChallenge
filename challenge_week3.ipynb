{
 "cells": [
  {
   "cell_type": "code",
   "execution_count": 2,
   "id": "3bbe40a1",
   "metadata": {},
   "outputs": [],
   "source": [
    "import pandas as pd"
   ]
  },
  {
   "cell_type": "code",
   "execution_count": 13,
   "id": "39af4d06",
   "metadata": {},
   "outputs": [],
   "source": [
    "df = pd.read_csv('mieszkania_windows.csv')"
   ]
  },
  {
   "cell_type": "code",
   "execution_count": 14,
   "id": "62beec2c",
   "metadata": {},
   "outputs": [
    {
     "data": {
      "text/html": [
       "<div>\n",
       "<style scoped>\n",
       "    .dataframe tbody tr th:only-of-type {\n",
       "        vertical-align: middle;\n",
       "    }\n",
       "\n",
       "    .dataframe tbody tr th {\n",
       "        vertical-align: top;\n",
       "    }\n",
       "\n",
       "    .dataframe thead th {\n",
       "        text-align: right;\n",
       "    }\n",
       "</style>\n",
       "<table border=\"1\" class=\"dataframe\">\n",
       "  <thead>\n",
       "    <tr style=\"text-align: right;\">\n",
       "      <th></th>\n",
       "      <th>Kwartal</th>\n",
       "      <th>Rok</th>\n",
       "      <th>Wartosc</th>\n",
       "    </tr>\n",
       "  </thead>\n",
       "  <tbody>\n",
       "    <tr>\n",
       "      <th>0</th>\n",
       "      <td>4</td>\n",
       "      <td>2023</td>\n",
       "      <td>6386</td>\n",
       "    </tr>\n",
       "    <tr>\n",
       "      <th>1</th>\n",
       "      <td>3</td>\n",
       "      <td>2023</td>\n",
       "      <td>6335</td>\n",
       "    </tr>\n",
       "    <tr>\n",
       "      <th>2</th>\n",
       "      <td>2</td>\n",
       "      <td>2023</td>\n",
       "      <td>6134</td>\n",
       "    </tr>\n",
       "    <tr>\n",
       "      <th>3</th>\n",
       "      <td>1</td>\n",
       "      <td>2023</td>\n",
       "      <td>5668</td>\n",
       "    </tr>\n",
       "    <tr>\n",
       "      <th>4</th>\n",
       "      <td>4</td>\n",
       "      <td>2022</td>\n",
       "      <td>5708</td>\n",
       "    </tr>\n",
       "  </tbody>\n",
       "</table>\n",
       "</div>"
      ],
      "text/plain": [
       "   Kwartal   Rok  Wartosc\n",
       "0        4  2023     6386\n",
       "1        3  2023     6335\n",
       "2        2  2023     6134\n",
       "3        1  2023     5668\n",
       "4        4  2022     5708"
      ]
     },
     "execution_count": 14,
     "metadata": {},
     "output_type": "execute_result"
    }
   ],
   "source": [
    "df.head()"
   ]
  },
  {
   "cell_type": "code",
   "execution_count": 19,
   "id": "2d4d9b01",
   "metadata": {},
   "outputs": [],
   "source": [
    "dfy = df.groupby(df['Rok'])['Wartosc'].mean()"
   ]
  },
  {
   "cell_type": "code",
   "execution_count": 20,
   "id": "37a5075c",
   "metadata": {},
   "outputs": [
    {
     "name": "stdout",
     "output_type": "stream",
     "text": [
      "Rok\n",
      "1998    1930.00\n",
      "1999    2132.50\n",
      "2000    2281.25\n",
      "2001    2510.00\n",
      "2002    2403.50\n",
      "2003    2238.00\n",
      "2004    2388.75\n",
      "2005    2439.25\n",
      "2006    2545.25\n",
      "2007    2816.00\n",
      "2008    3316.25\n",
      "2009    3891.50\n",
      "2010    4360.25\n",
      "2011    3858.25\n",
      "2012    3996.25\n",
      "2013    4025.25\n",
      "2014    4033.50\n",
      "2015    3969.50\n",
      "2016    4054.00\n",
      "2017    4170.00\n",
      "2018    4237.50\n",
      "2019    4461.25\n",
      "2020    4891.50\n",
      "2021    5134.25\n",
      "2022    5318.75\n",
      "2023    6130.75\n",
      "Name: Wartosc, dtype: float64\n"
     ]
    }
   ],
   "source": [
    "print(dfy)"
   ]
  },
  {
   "cell_type": "code",
   "execution_count": 23,
   "id": "9ba35ce5",
   "metadata": {},
   "outputs": [],
   "source": [
    "import streamlit as st\n",
    "\n",
    "from streamlit_jupyter import StreamlitPatcher, tqdm\n",
    "\n",
    "StreamlitPatcher().jupyter()"
   ]
  },
  {
   "cell_type": "code",
   "execution_count": 24,
   "id": "ecfeaea2",
   "metadata": {},
   "outputs": [
    {
     "data": {
      "text/markdown": [
       "# Example"
      ],
      "text/plain": [
       "<IPython.core.display.Markdown object>"
      ]
     },
     "metadata": {},
     "output_type": "display_data"
    }
   ],
   "source": [
    "st.title(\"Example\")"
   ]
  },
  {
   "cell_type": "code",
   "execution_count": 26,
   "id": "e8d980ac",
   "metadata": {},
   "outputs": [
    {
     "data": {
      "text/markdown": [
       "\n",
       "\n",
       "This is a test page demonstrating the use of `streamlit_jupyter`.\n",
       "\n",
       "If you're seeing this in jupyter, then it's working!\n",
       "\n"
      ],
      "text/plain": [
       "<IPython.core.display.Markdown object>"
      ]
     },
     "metadata": {},
     "output_type": "display_data"
    }
   ],
   "source": [
    "st.markdown(\n",
    "    \"\"\"\n",
    "\n",
    "This is a test page demonstrating the use of `streamlit_jupyter`.\n",
    "\n",
    "If you're seeing this in jupyter, then it's working!\n",
    "\n",
    "\"\"\"\n",
    ")"
   ]
  },
  {
   "cell_type": "code",
   "execution_count": null,
   "id": "e2ba3408",
   "metadata": {},
   "outputs": [],
   "source": []
  }
 ],
 "metadata": {
  "kernelspec": {
   "display_name": "Python 3 (ipykernel)",
   "language": "python",
   "name": "python3"
  },
  "language_info": {
   "codemirror_mode": {
    "name": "ipython",
    "version": 3
   },
   "file_extension": ".py",
   "mimetype": "text/x-python",
   "name": "python",
   "nbconvert_exporter": "python",
   "pygments_lexer": "ipython3",
   "version": "3.11.5"
  }
 },
 "nbformat": 4,
 "nbformat_minor": 5
}
