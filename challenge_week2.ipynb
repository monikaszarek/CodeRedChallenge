{
 "cells": [
  {
   "cell_type": "code",
   "execution_count": null,
   "id": "e3493ae7",
   "metadata": {},
   "outputs": [],
   "source": [
    "#1. Write a program that as input accepts a string typed on keyboard and as output it will print this string reversed\n",
    "#Example:\n",
    "#input: Alice in wonderland\n",
    "#output: dnalrednow ni ecilA"
   ]
  },
  {
   "cell_type": "code",
   "execution_count": 5,
   "id": "ee10e7aa",
   "metadata": {},
   "outputs": [
    {
     "name": "stdout",
     "output_type": "stream",
     "text": [
      "Give me a sentence:I love Python\n",
      "nohtyP evol I\n"
     ]
    }
   ],
   "source": [
    "x=str(input('Give me a sentence:'))\n",
    "def my_function(x):\n",
    "  return x[::-1]\n",
    "\n",
    "mytxt = my_function(x)\n",
    "\n",
    "print(mytxt)"
   ]
  },
  {
   "cell_type": "code",
   "execution_count": null,
   "id": "1254a33a",
   "metadata": {},
   "outputs": [],
   "source": [
    "#2. Write a word counter: as input program accepts a txt file, then reads the content from the file and as output prints the number of words in that txt file.\n",
    "#You need to create this txt file first and fill it with some sentences.\n",
    "#Example:\n",
    "#input: Alice in wonderland sleeps\n",
    "#output: 4"
   ]
  },
  {
   "cell_type": "code",
   "execution_count": null,
   "id": "fe51da57",
   "metadata": {},
   "outputs": [],
   "source": [
    "#3. Write a function to check duplicate letters in words. It must accept strings ie. a sentence.\n",
    "#The function should return True if any of the words has duplicate letters else return False.\n",
    "#Example 1:\n",
    "#input: A cucumber is green\n",
    "#output: True\n",
    "#Example 2:\n",
    "#input: This is it\n",
    "#output: False\n",
    "#Example 3:\n",
    "#input: banana\n",
    "#output: True"
   ]
  },
  {
   "cell_type": "code",
   "execution_count": 11,
   "id": "ac7fcd44",
   "metadata": {},
   "outputs": [
    {
     "name": "stdout",
     "output_type": "stream",
     "text": [
      "['a', 'cucumber', 'is', 'green']\n",
      "False\n"
     ]
    }
   ],
   "source": [
    "sentence = \"a cucumber is green\"\n",
    "words = sentence.split(\" \")\n",
    "print(words)\n",
    "result = True\n",
    "for word in words:\n",
    "    a = set()\n",
    "    for char in word:\n",
    "        a.add(char)\n",
    "    if len(word) != len(a):\n",
    "        result = False\n",
    "        \n",
    "print(result)"
   ]
  },
  {
   "cell_type": "code",
   "execution_count": null,
   "id": "29facc70",
   "metadata": {},
   "outputs": [],
   "source": [
    "#4. Write a function that counts the number of vowels in a given word.\n",
    "#Example 1:\n",
    "#input: banana\n",
    "#output: 3\n",
    "#Example 2:\n",
    "#input: vowels\n",
    "#output: 2"
   ]
  },
  {
   "cell_type": "code",
   "execution_count": 14,
   "id": "02b63daa",
   "metadata": {},
   "outputs": [
    {
     "name": "stdout",
     "output_type": "stream",
     "text": [
      "Give me a sentence:banana is green\n",
      "No. of vowels : 6\n"
     ]
    }
   ],
   "source": [
    "str=input('Give me a sentence:')\n",
    "def vowel_count(str):    \n",
    "    vowels = \"aeiouAEIOU\"\n",
    "     \n",
    "    count = len([char for char in str if char in vowels])\n",
    "     \n",
    "    print(\"No. of vowels :\", count)\n",
    "\n",
    "vowel_count(str)"
   ]
  },
  {
   "cell_type": "code",
   "execution_count": null,
   "id": "4a1a9e50",
   "metadata": {},
   "outputs": [],
   "source": []
  }
 ],
 "metadata": {
  "kernelspec": {
   "display_name": "Python 3 (ipykernel)",
   "language": "python",
   "name": "python3"
  },
  "language_info": {
   "codemirror_mode": {
    "name": "ipython",
    "version": 3
   },
   "file_extension": ".py",
   "mimetype": "text/x-python",
   "name": "python",
   "nbconvert_exporter": "python",
   "pygments_lexer": "ipython3",
   "version": "3.11.5"
  }
 },
 "nbformat": 4,
 "nbformat_minor": 5
}
